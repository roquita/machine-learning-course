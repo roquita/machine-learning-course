{
 "cells": [
  {
   "cell_type": "markdown",
   "id": "00ef86e0",
   "metadata": {},
   "source": [
    "# LINEAR REGRESSION - SINGLE VAR"
   ]
  },
  {
   "cell_type": "code",
   "execution_count": null,
   "id": "e7a94a77",
   "metadata": {},
   "outputs": [],
   "source": [
    "import pandas as pd\n",
    "import numpy as np\n",
    "from sklearn import linear_model\n",
    "import matplotlib.pyplot as plt"
   ]
  },
  {
   "cell_type": "code",
   "execution_count": null,
   "id": "2470abf5",
   "metadata": {},
   "outputs": [],
   "source": [
    "df=pd.read_csv(\"data.csv\")\n",
    "df"
   ]
  },
  {
   "cell_type": "code",
   "execution_count": null,
   "id": "318ff264",
   "metadata": {},
   "outputs": [],
   "source": [
    "%matplotlib inline\n",
    "plt.xlabel('area')\n",
    "plt.ylabel('price')\n",
    "plt.scatter(df.area,df.price,color='red',marker='+')\n"
   ]
  },
  {
   "cell_type": "code",
   "execution_count": null,
   "id": "1e496014",
   "metadata": {},
   "outputs": [],
   "source": [
    "new_df = df.drop('price',axis='columns')\n",
    "new_df"
   ]
  },
  {
   "cell_type": "code",
   "execution_count": null,
   "id": "8be3e44d",
   "metadata": {},
   "outputs": [],
   "source": [
    "price = df.drop('area',axis='columns')\n",
    "price"
   ]
  },
  {
   "cell_type": "code",
   "execution_count": null,
   "id": "463c7eb5",
   "metadata": {},
   "outputs": [],
   "source": [
    "# Create linear regression object\n",
    "reg = linear_model.LinearRegression()\n",
    "reg.fit(new_df.values,price.values)"
   ]
  },
  {
   "cell_type": "code",
   "execution_count": null,
   "id": "0c1da2c7",
   "metadata": {},
   "outputs": [],
   "source": [
    "# MAKE A PREDICCTION\n",
    "reg.predict([[3300]])"
   ]
  },
  {
   "cell_type": "code",
   "execution_count": null,
   "id": "c16673ae",
   "metadata": {},
   "outputs": [],
   "source": [
    "# PRINT C1\n",
    "reg.coef_"
   ]
  },
  {
   "cell_type": "code",
   "execution_count": null,
   "id": "c9890762",
   "metadata": {},
   "outputs": [],
   "source": [
    "# PRINT C0\n",
    "reg.intercept_"
   ]
  },
  {
   "cell_type": "code",
   "execution_count": null,
   "id": "eb611e68",
   "metadata": {},
   "outputs": [],
   "source": [
    "# OPEN CSV WITH INPUT VALUES\n",
    "area_df = pd.read_csv(\"area.csv\")\n",
    "area_df"
   ]
  },
  {
   "cell_type": "code",
   "execution_count": null,
   "id": "d61b9cca",
   "metadata": {},
   "outputs": [],
   "source": [
    "# MAKE PREDICTIONS\n",
    "p = reg.predict(area_df.values)\n",
    "p"
   ]
  },
  {
   "cell_type": "code",
   "execution_count": null,
   "id": "2a3dbf85",
   "metadata": {},
   "outputs": [],
   "source": [
    "# ADD PREDICTIONS IN DATAFRAME\n",
    "area_df['prices']=p\n",
    "area_df"
   ]
  },
  {
   "cell_type": "code",
   "execution_count": null,
   "id": "16ea492d",
   "metadata": {},
   "outputs": [],
   "source": [
    "# PRINT ALL ON CSV FILE\n",
    "area_df.to_csv(\"prediction.csv\")"
   ]
  },
  {
   "cell_type": "markdown",
   "id": "07c4c5ee",
   "metadata": {},
   "source": [
    "# LINEAR REGRESSION - MULTIPLE VAR"
   ]
  },
  {
   "cell_type": "code",
   "execution_count": null,
   "id": "c4e57ea7",
   "metadata": {},
   "outputs": [],
   "source": [
    "import pandas as pd\n",
    "import numpy as np\n",
    "from sklearn import linear_model"
   ]
  },
  {
   "cell_type": "code",
   "execution_count": null,
   "id": "20468457",
   "metadata": {},
   "outputs": [],
   "source": [
    "# READ TRAINING DATA\n",
    "df=pd.read_csv(\"training_multivar.csv\")\n",
    "df"
   ]
  },
  {
   "cell_type": "code",
   "execution_count": null,
   "id": "c5cf3222",
   "metadata": {},
   "outputs": [],
   "source": [
    "df.bedrooms.median()"
   ]
  },
  {
   "cell_type": "code",
   "execution_count": null,
   "id": "e8cae9ff",
   "metadata": {},
   "outputs": [],
   "source": [
    "# FILL NA VALUES WITH MEDIAN\n",
    "df.bedrooms = df.bedrooms.fillna(df.bedrooms.median())\n",
    "df"
   ]
  },
  {
   "cell_type": "code",
   "execution_count": null,
   "id": "12f8c8de",
   "metadata": {},
   "outputs": [],
   "source": [
    "# GET INPUT DF\n",
    "input_df = df.drop('price',axis='columns')\n",
    "input_df"
   ]
  },
  {
   "cell_type": "code",
   "execution_count": null,
   "id": "267eacd7",
   "metadata": {},
   "outputs": [],
   "source": [
    "# GET OUTPUT DF\n",
    "output_df = df.drop([\"area\",\"bedrooms\",\"age\"],axis='columns')\n",
    "output_df"
   ]
  },
  {
   "cell_type": "code",
   "execution_count": null,
   "id": "e541d204",
   "metadata": {},
   "outputs": [],
   "source": [
    "# TRAING MODEL\n",
    "reg = linear_model.LinearRegression()\n",
    "reg.fit(input_df.values,output_df.values)"
   ]
  },
  {
   "cell_type": "code",
   "execution_count": null,
   "id": "1015c7f5",
   "metadata": {},
   "outputs": [],
   "source": [
    "# PRINT COEFS\n",
    "reg.coef_"
   ]
  },
  {
   "cell_type": "code",
   "execution_count": null,
   "id": "c896a933",
   "metadata": {},
   "outputs": [],
   "source": [
    "# PRINT INTERCEPT\n",
    "reg.intercept_"
   ]
  },
  {
   "cell_type": "code",
   "execution_count": null,
   "id": "4cbb813a",
   "metadata": {},
   "outputs": [],
   "source": [
    "# MAKE PREDICCTION 1\n",
    "reg.predict([[3000, 3, 40]])"
   ]
  },
  {
   "cell_type": "code",
   "execution_count": null,
   "id": "10f5fe81",
   "metadata": {},
   "outputs": [],
   "source": [
    "# MAKE PREDICCTION 2\n",
    "reg.predict([[2500, 4, 5]])"
   ]
  },
  {
   "cell_type": "markdown",
   "id": "778aaa1f",
   "metadata": {},
   "source": [
    "# SAVE MODEL USING JOBLIB"
   ]
  },
  {
   "cell_type": "code",
   "execution_count": null,
   "id": "1a3b1c92",
   "metadata": {},
   "outputs": [],
   "source": [
    "import joblib"
   ]
  },
  {
   "cell_type": "code",
   "execution_count": null,
   "id": "eb54ac4b",
   "metadata": {},
   "outputs": [],
   "source": [
    "# SAVE MODEL\n",
    "joblib.dump(reg, 'model_joblib')"
   ]
  },
  {
   "cell_type": "code",
   "execution_count": null,
   "id": "21a41c3d",
   "metadata": {},
   "outputs": [],
   "source": [
    "# LOAD MODEL\n",
    "mymodel = joblib.load('model_joblib')"
   ]
  },
  {
   "cell_type": "code",
   "execution_count": null,
   "id": "1752eae7",
   "metadata": {},
   "outputs": [],
   "source": [
    "mymodel.coef_"
   ]
  },
  {
   "cell_type": "code",
   "execution_count": null,
   "id": "4f231445",
   "metadata": {},
   "outputs": [],
   "source": [
    "mymodel.intercept_"
   ]
  },
  {
   "cell_type": "code",
   "execution_count": null,
   "id": "5648ad26",
   "metadata": {},
   "outputs": [],
   "source": [
    "mymodel.predict([[2500, 4, 5]])"
   ]
  },
  {
   "cell_type": "markdown",
   "id": "f1b1d47d",
   "metadata": {},
   "source": [
    "# LOGISTIC REGRESSION: BINARY"
   ]
  },
  {
   "cell_type": "code",
   "execution_count": null,
   "id": "06db95df",
   "metadata": {},
   "outputs": [],
   "source": [
    "import pandas as pd\n",
    "from matplotlib import pyplot as plt\n",
    "%matplotlib inline"
   ]
  },
  {
   "cell_type": "code",
   "execution_count": null,
   "id": "fc510c7f",
   "metadata": {},
   "outputs": [],
   "source": [
    "df = pd.read_csv(\"insurance_data.csv\")\n",
    "df.head()"
   ]
  },
  {
   "cell_type": "code",
   "execution_count": null,
   "id": "be019e6c",
   "metadata": {},
   "outputs": [],
   "source": [
    "# PRINT INPUT DATA\n",
    "plt.scatter(df.age,df.bought_insurance,marker='+',color='red')"
   ]
  },
  {
   "cell_type": "code",
   "execution_count": null,
   "id": "e3ebf132",
   "metadata": {},
   "outputs": [],
   "source": [
    "# SPLIT TRAIN AND TEST DATA\n",
    "from sklearn.model_selection import train_test_split\n",
    "X_train, X_test, y_train, y_test = train_test_split(df[['age']],df.bought_insurance,train_size=0.8)"
   ]
  },
  {
   "cell_type": "code",
   "execution_count": null,
   "id": "fd56df0b",
   "metadata": {},
   "outputs": [],
   "source": [
    "# WATCH TEST DATA\n",
    "X_test"
   ]
  },
  {
   "cell_type": "code",
   "execution_count": null,
   "id": "12cec6b8",
   "metadata": {},
   "outputs": [],
   "source": [
    "# TRAING MODEL\n",
    "from sklearn.linear_model import LogisticRegression\n",
    "model = LogisticRegression()\n",
    "model.fit(X_train, y_train)"
   ]
  },
  {
   "cell_type": "code",
   "execution_count": null,
   "id": "6dbec70d",
   "metadata": {},
   "outputs": [],
   "source": [
    "# MAKE PREDICTIONS\n",
    "y_predicted = model.predict(X_test)\n",
    "y_predicted "
   ]
  },
  {
   "cell_type": "code",
   "execution_count": null,
   "id": "36b876a1",
   "metadata": {},
   "outputs": [],
   "source": [
    "# CHECK SCORE\n",
    "model.score(X_test,y_test)"
   ]
  },
  {
   "cell_type": "code",
   "execution_count": null,
   "id": "78d851ee",
   "metadata": {},
   "outputs": [],
   "source": [
    "# COMPARE INPUT DATA AND MODEL\n",
    "plt.scatter(df.age,df.bought_insurance,marker='+',color='red')\n",
    "\n",
    "import numpy as np\n",
    "d = { \"age\": np.linspace(10,65,40)}\n",
    "df_plot = pd.DataFrame(data=d)\n",
    "\n",
    "plt.scatter(d[\"age\"],model.predict(df_plot),marker='.',color='blue')"
   ]
  },
  {
   "cell_type": "markdown",
   "id": "7351caa1",
   "metadata": {},
   "source": [
    "# LOGISTIC REGRESSION: MULTICLASS"
   ]
  },
  {
   "cell_type": "code",
   "execution_count": 1,
   "id": "ac0719af",
   "metadata": {},
   "outputs": [],
   "source": [
    "from sklearn.datasets import load_digits\n",
    "%matplotlib inline\n",
    "import matplotlib.pyplot as plt"
   ]
  },
  {
   "cell_type": "code",
   "execution_count": 2,
   "id": "7f2f98eb",
   "metadata": {},
   "outputs": [],
   "source": [
    "# load dataset\n",
    "digits = load_digits()"
   ]
  },
  {
   "cell_type": "code",
   "execution_count": 3,
   "id": "0c5ff158",
   "metadata": {},
   "outputs": [
    {
     "name": "stdout",
     "output_type": "stream",
     "text": [
      "1797\n",
      "[ 0.  0.  5. 13.  9.  1.  0.  0.  0.  0. 13. 15. 10. 15.  5.  0.  0.  3.\n",
      " 15.  2.  0. 11.  8.  0.  0.  4. 12.  0.  0.  8.  8.  0.  0.  5.  8.  0.\n",
      "  0.  9.  8.  0.  0.  4. 11.  0.  1. 12.  7.  0.  0.  2. 14.  5. 10. 12.\n",
      "  0.  0.  0.  0.  6. 13. 10.  0.  0.  0.]\n"
     ]
    },
    {
     "data": {
      "text/plain": [
       "<Figure size 432x288 with 0 Axes>"
      ]
     },
     "metadata": {},
     "output_type": "display_data"
    },
    {
     "data": {
      "image/png": "[encoded data removed]",
      "text/plain": [
       "<Figure size 288x288 with 1 Axes>"
      ]
     },
     "metadata": {
      "needs_background": "light"
     },
     "output_type": "display_data"
    },
    {
     "data": {
      "image/png": "[encoded data removed]",
      "text/plain": [
       "<Figure size 288x288 with 1 Axes>"
      ]
     },
     "metadata": {
      "needs_background": "light"
     },
     "output_type": "display_data"
    },
    {
     "data": {
      "image/png": "[encoded data removed]",
      "text/plain": [
       "<Figure size 288x288 with 1 Axes>"
      ]
     },
     "metadata": {
      "needs_background": "light"
     },
     "output_type": "display_data"
    },
    {
     "data": {
      "image/png": "[encoded data removed]",
      "text/plain": [
       "<Figure size 288x288 with 1 Axes>"
      ]
     },
     "metadata": {
      "needs_background": "light"
     },
     "output_type": "display_data"
    },
    {
     "data": {
      "image/png": "[encoded data removed]",
      "text/plain": [
       "<Figure size 288x288 with 1 Axes>"
      ]
     },
     "metadata": {
      "needs_background": "light"
     },
     "output_type": "display_data"
    }
   ],
   "source": [
    "# view dataset content\n",
    "dir(digits)\n",
    "print(len(digits.data))\n",
    "print(digits.data[0])\n",
    "\n",
    "plt.gray() \n",
    "for i in range(5):\n",
    "    plt.matshow(digits.images[i]) "
   ]
  },
  {
   "cell_type": "code",
   "execution_count": 4,
   "id": "f7dcc85d",
   "metadata": {},
   "outputs": [],
   "source": [
    "from sklearn.linear_model import LogisticRegression\n",
    "model = LogisticRegression(solver='liblinear',max_iter=100)"
   ]
  },
  {
   "cell_type": "code",
   "execution_count": 5,
   "id": "11e59d8a",
   "metadata": {},
   "outputs": [],
   "source": [
    "# split dataset in train and test parts\n",
    "from sklearn.model_selection import train_test_split\n",
    "X_train, X_test, y_train, y_test = train_test_split(digits.data,digits.target, test_size=0.2)"
   ]
  },
  {
   "cell_type": "code",
   "execution_count": 6,
   "id": "8817f61f",
   "metadata": {},
   "outputs": [
    {
     "data": {
      "text/plain": [
       "LogisticRegression(solver='liblinear')"
      ]
     },
     "execution_count": 6,
     "metadata": {},
     "output_type": "execute_result"
    }
   ],
   "source": [
    "# train model\n",
    "model.fit(X_train, y_train)"
   ]
  },
  {
   "cell_type": "code",
   "execution_count": 7,
   "id": "059d3e62",
   "metadata": {},
   "outputs": [
    {
     "data": {
      "text/plain": [
       "0.9444444444444444"
      ]
     },
     "execution_count": 7,
     "metadata": {},
     "output_type": "execute_result"
    }
   ],
   "source": [
    "# getaccuracy\n",
    "model.score(X_test, y_test)"
   ]
  },
  {
   "cell_type": "code",
   "execution_count": 10,
   "id": "5aa8bd9f",
   "metadata": {},
   "outputs": [
    {
     "name": "stdout",
     "output_type": "stream",
     "text": [
      "true: [0 1 2 3 4]\n"
     ]
    },
    {
     "data": {
      "text/plain": [
       "array([0, 1, 2, 3, 4])"
      ]
     },
     "execution_count": 10,
     "metadata": {},
     "output_type": "execute_result"
    }
   ],
   "source": [
    "# make some predicctions\n",
    "print(\"true:\",digits.target[0:5])\n",
    "model.predict(digits.data[0:5])"
   ]
  },
  {
   "cell_type": "code",
   "execution_count": 11,
   "id": "cbd93d6a",
   "metadata": {},
   "outputs": [
    {
     "data": {
      "text/plain": [
       "array([[32,  0,  0,  0,  0,  0,  0,  0,  0,  0],\n",
       "       [ 0, 38,  0,  0,  0,  0,  0,  0,  3,  1],\n",
       "       [ 0,  0, 30,  1,  0,  0,  0,  0,  0,  0],\n",
       "       [ 0,  0,  0, 36,  0,  0,  0,  0,  2,  1],\n",
       "       [ 0,  1,  0,  0, 31,  0,  0,  0,  0,  0],\n",
       "       [ 0,  1,  1,  0,  0, 43,  2,  0,  0,  1],\n",
       "       [ 0,  1,  0,  0,  0,  0, 31,  0,  0,  0],\n",
       "       [ 0,  0,  0,  0,  0,  0,  0, 34,  0,  1],\n",
       "       [ 0,  1,  0,  0,  0,  1,  0,  0, 26,  0],\n",
       "       [ 0,  1,  0,  0,  0,  0,  0,  0,  1, 39]], dtype=int64)"
      ]
     },
     "execution_count": 11,
     "metadata": {},
     "output_type": "execute_result"
    }
   ],
   "source": [
    "# get confusion matrix\n",
    "y_predicted = model.predict(X_test)\n",
    "\n",
    "from sklearn.metrics import confusion_matrix\n",
    "cm = confusion_matrix(y_test, y_predicted)\n",
    "cm"
   ]
  },
  {
   "cell_type": "code",
   "execution_count": 12,
   "id": "e14819fd",
   "metadata": {},
   "outputs": [
    {
     "data": {
      "text/plain": [
       "Text(69.0, 0.5, 'Truth')"
      ]
     },
     "execution_count": 12,
     "metadata": {},
     "output_type": "execute_result"
    },
    {
     "data": {
      "image/png": "[encoded data removed]",
      "text/plain": [
       "<Figure size 720x504 with 2 Axes>"
      ]
     },
     "metadata": {
      "needs_background": "light"
     },
     "output_type": "display_data"
    }
   ],
   "source": [
    "# plot confusion matrix\n",
    "import seaborn as sn\n",
    "plt.figure(figsize = (10,7))\n",
    "sn.heatmap(cm, annot=True)\n",
    "plt.xlabel('Predicted')\n",
    "plt.ylabel('Truth')"
   ]
  },
  {
   "cell_type": "code",
   "execution_count": null,
   "id": "c8d209d6",
   "metadata": {},
   "outputs": [],
   "source": []
  }
 ],
 "metadata": {
  "kernelspec": {
   "display_name": "003pandas",
   "language": "python",
   "name": "003pandas"
  },
  "language_info": {
   "codemirror_mode": {
    "name": "ipython",
    "version": 3
   },
   "file_extension": ".py",
   "mimetype": "text/x-python",
   "name": "python",
   "nbconvert_exporter": "python",
   "pygments_lexer": "ipython3",
   "version": "3.9.9"
  }
 },
 "nbformat": 4,
 "nbformat_minor": 5
}
